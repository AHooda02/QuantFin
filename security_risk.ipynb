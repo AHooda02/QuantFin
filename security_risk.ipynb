{
 "cells": [
  {
   "cell_type": "code",
   "execution_count": 3,
   "id": "d065a9a0-3847-433a-9731-fd4f8949adef",
   "metadata": {},
   "outputs": [],
   "source": [
    "import numpy as np\n",
    "import pandas as pd\n",
    "import yfinance as yf\n",
    "import matplotlib.pyplot as plt"
   ]
  },
  {
   "cell_type": "code",
   "execution_count": 43,
   "id": "2d8857e4-e2c1-4b7c-9b23-28ec8c01b575",
   "metadata": {},
   "outputs": [
    {
     "name": "stderr",
     "output_type": "stream",
     "text": [
      "[*********************100%***********************]  1 of 1 completed\n",
      "[*********************100%***********************]  1 of 1 completed\n"
     ]
    }
   ],
   "source": [
    "tickers=['INFY','ITC.NS']\n",
    "\n",
    "sec_data= pd.DataFrame()\n",
    "\n",
    "for t in tickers:\n",
    "    sec_data[t]=yf.download(t,start='2000-1-1')['Close']"
   ]
  },
  {
   "cell_type": "code",
   "execution_count": 45,
   "id": "704ca7a0-a567-4870-afdb-afd8f1eeebc4",
   "metadata": {},
   "outputs": [],
   "source": [
    "sec_returns=np.log(sec_data/sec_data.shift(1))"
   ]
  },
  {
   "cell_type": "code",
   "execution_count": 46,
   "id": "9d71ad87-f2a3-4d70-8eb2-9567a3b436fb",
   "metadata": {},
   "outputs": [
    {
     "data": {
      "text/html": [
       "<div>\n",
       "<style scoped>\n",
       "    .dataframe tbody tr th:only-of-type {\n",
       "        vertical-align: middle;\n",
       "    }\n",
       "\n",
       "    .dataframe tbody tr th {\n",
       "        vertical-align: top;\n",
       "    }\n",
       "\n",
       "    .dataframe thead th {\n",
       "        text-align: right;\n",
       "    }\n",
       "</style>\n",
       "<table border=\"1\" class=\"dataframe\">\n",
       "  <thead>\n",
       "    <tr style=\"text-align: right;\">\n",
       "      <th></th>\n",
       "      <th>INFY</th>\n",
       "      <th>ITC.NS</th>\n",
       "    </tr>\n",
       "    <tr>\n",
       "      <th>Date</th>\n",
       "      <th></th>\n",
       "      <th></th>\n",
       "    </tr>\n",
       "  </thead>\n",
       "  <tbody>\n",
       "    <tr>\n",
       "      <th>2000-01-03</th>\n",
       "      <td>NaN</td>\n",
       "      <td>NaN</td>\n",
       "    </tr>\n",
       "    <tr>\n",
       "      <th>2000-01-04</th>\n",
       "      <td>0.007758</td>\n",
       "      <td>0.005420</td>\n",
       "    </tr>\n",
       "    <tr>\n",
       "      <th>2000-01-05</th>\n",
       "      <td>-0.008097</td>\n",
       "      <td>0.019256</td>\n",
       "    </tr>\n",
       "    <tr>\n",
       "      <th>2000-01-06</th>\n",
       "      <td>-0.111704</td>\n",
       "      <td>0.076966</td>\n",
       "    </tr>\n",
       "    <tr>\n",
       "      <th>2000-01-07</th>\n",
       "      <td>0.067375</td>\n",
       "      <td>0.076968</td>\n",
       "    </tr>\n",
       "    <tr>\n",
       "      <th>...</th>\n",
       "      <td>...</td>\n",
       "      <td>...</td>\n",
       "    </tr>\n",
       "    <tr>\n",
       "      <th>2024-12-23</th>\n",
       "      <td>0.002197</td>\n",
       "      <td>0.020450</td>\n",
       "    </tr>\n",
       "    <tr>\n",
       "      <th>2024-12-24</th>\n",
       "      <td>-0.000439</td>\n",
       "      <td>0.008817</td>\n",
       "    </tr>\n",
       "    <tr>\n",
       "      <th>2024-12-26</th>\n",
       "      <td>-0.005726</td>\n",
       "      <td>-0.003140</td>\n",
       "    </tr>\n",
       "    <tr>\n",
       "      <th>2024-12-27</th>\n",
       "      <td>-0.007092</td>\n",
       "      <td>0.003453</td>\n",
       "    </tr>\n",
       "    <tr>\n",
       "      <th>2024-12-30</th>\n",
       "      <td>-0.017048</td>\n",
       "      <td>-0.003349</td>\n",
       "    </tr>\n",
       "  </tbody>\n",
       "</table>\n",
       "<p>6288 rows × 2 columns</p>\n",
       "</div>"
      ],
      "text/plain": [
       "                INFY    ITC.NS\n",
       "Date                          \n",
       "2000-01-03       NaN       NaN\n",
       "2000-01-04  0.007758  0.005420\n",
       "2000-01-05 -0.008097  0.019256\n",
       "2000-01-06 -0.111704  0.076966\n",
       "2000-01-07  0.067375  0.076968\n",
       "...              ...       ...\n",
       "2024-12-23  0.002197  0.020450\n",
       "2024-12-24 -0.000439  0.008817\n",
       "2024-12-26 -0.005726 -0.003140\n",
       "2024-12-27 -0.007092  0.003453\n",
       "2024-12-30 -0.017048 -0.003349\n",
       "\n",
       "[6288 rows x 2 columns]"
      ]
     },
     "execution_count": 46,
     "metadata": {},
     "output_type": "execute_result"
    }
   ],
   "source": [
    "sec_returns"
   ]
  },
  {
   "cell_type": "code",
   "execution_count": 81,
   "id": "94e31f62-dc6b-4b56-bb16-66040eed0b62",
   "metadata": {},
   "outputs": [
    {
     "data": {
      "text/plain": [
       "0.43183827603634767"
      ]
     },
     "execution_count": 81,
     "metadata": {},
     "output_type": "execute_result"
    }
   ],
   "source": [
    "sec_returns['INFY'].std()*250**0.5"
   ]
  },
  {
   "cell_type": "code",
   "execution_count": null,
   "id": "bc13d43a-b10a-4795-b4a0-181f3b26142a",
   "metadata": {},
   "outputs": [],
   "source": [
    "sec_returns['ITC.NS'].std()*250**0.5"
   ]
  },
  {
   "cell_type": "code",
   "execution_count": 60,
   "id": "69844aad-87d8-4f49-99f4-9ac5e671d566",
   "metadata": {},
   "outputs": [
    {
     "data": {
      "text/plain": [
       "INFY      0.431838\n",
       "ITC.NS    0.299525\n",
       "dtype: float64"
      ]
     },
     "execution_count": 60,
     "metadata": {},
     "output_type": "execute_result"
    }
   ],
   "source": [
    "sec_returns[['INFY','ITC.NS']].std()*250**0.5"
   ]
  },
  {
   "cell_type": "code",
   "execution_count": 61,
   "id": "da85735a-68ae-4fb8-b912-debfd859050b",
   "metadata": {},
   "outputs": [],
   "source": [
    "cov_matrix=sec_returns.cov()"
   ]
  },
  {
   "cell_type": "code",
   "execution_count": 62,
   "id": "d0f73b1e-6c3e-4326-b028-fd7721476fa7",
   "metadata": {},
   "outputs": [
    {
     "data": {
      "text/html": [
       "<div>\n",
       "<style scoped>\n",
       "    .dataframe tbody tr th:only-of-type {\n",
       "        vertical-align: middle;\n",
       "    }\n",
       "\n",
       "    .dataframe tbody tr th {\n",
       "        vertical-align: top;\n",
       "    }\n",
       "\n",
       "    .dataframe thead th {\n",
       "        text-align: right;\n",
       "    }\n",
       "</style>\n",
       "<table border=\"1\" class=\"dataframe\">\n",
       "  <thead>\n",
       "    <tr style=\"text-align: right;\">\n",
       "      <th></th>\n",
       "      <th>INFY</th>\n",
       "      <th>ITC.NS</th>\n",
       "    </tr>\n",
       "  </thead>\n",
       "  <tbody>\n",
       "    <tr>\n",
       "      <th>INFY</th>\n",
       "      <td>0.000746</td>\n",
       "      <td>0.000067</td>\n",
       "    </tr>\n",
       "    <tr>\n",
       "      <th>ITC.NS</th>\n",
       "      <td>0.000067</td>\n",
       "      <td>0.000359</td>\n",
       "    </tr>\n",
       "  </tbody>\n",
       "</table>\n",
       "</div>"
      ],
      "text/plain": [
       "            INFY    ITC.NS\n",
       "INFY    0.000746  0.000067\n",
       "ITC.NS  0.000067  0.000359"
      ]
     },
     "execution_count": 62,
     "metadata": {},
     "output_type": "execute_result"
    }
   ],
   "source": [
    "cov_matrix"
   ]
  },
  {
   "cell_type": "code",
   "execution_count": 63,
   "id": "e22e7364-c31a-41e1-abc0-5b5fe97b5069",
   "metadata": {},
   "outputs": [
    {
     "data": {
      "text/html": [
       "<div>\n",
       "<style scoped>\n",
       "    .dataframe tbody tr th:only-of-type {\n",
       "        vertical-align: middle;\n",
       "    }\n",
       "\n",
       "    .dataframe tbody tr th {\n",
       "        vertical-align: top;\n",
       "    }\n",
       "\n",
       "    .dataframe thead th {\n",
       "        text-align: right;\n",
       "    }\n",
       "</style>\n",
       "<table border=\"1\" class=\"dataframe\">\n",
       "  <thead>\n",
       "    <tr style=\"text-align: right;\">\n",
       "      <th></th>\n",
       "      <th>INFY</th>\n",
       "      <th>ITC.NS</th>\n",
       "    </tr>\n",
       "  </thead>\n",
       "  <tbody>\n",
       "    <tr>\n",
       "      <th>INFY</th>\n",
       "      <td>0.186484</td>\n",
       "      <td>0.016757</td>\n",
       "    </tr>\n",
       "    <tr>\n",
       "      <th>ITC.NS</th>\n",
       "      <td>0.016757</td>\n",
       "      <td>0.089715</td>\n",
       "    </tr>\n",
       "  </tbody>\n",
       "</table>\n",
       "</div>"
      ],
      "text/plain": [
       "            INFY    ITC.NS\n",
       "INFY    0.186484  0.016757\n",
       "ITC.NS  0.016757  0.089715"
      ]
     },
     "execution_count": 63,
     "metadata": {},
     "output_type": "execute_result"
    }
   ],
   "source": [
    "cov_matrix_a=sec_returns.cov()*250\n",
    "cov_matrix_a"
   ]
  },
  {
   "cell_type": "code",
   "execution_count": 64,
   "id": "ea2bbbba-aee4-42ce-bc3c-1a78b285981d",
   "metadata": {},
   "outputs": [],
   "source": [
    "#Calculating Portfolio Risk"
   ]
  },
  {
   "cell_type": "code",
   "execution_count": 65,
   "id": "52ebb761-6846-4dc9-ba02-0f675a5ae8db",
   "metadata": {},
   "outputs": [],
   "source": [
    "weights=np.array([0.5,0.5])"
   ]
  },
  {
   "cell_type": "code",
   "execution_count": 66,
   "id": "899a9542-2f34-4779-9d56-9866d85039cf",
   "metadata": {},
   "outputs": [],
   "source": [
    "pfolio_var=np.dot(weights.T,np.dot(sec_returns.cov()*250,weights))"
   ]
  },
  {
   "cell_type": "code",
   "execution_count": 67,
   "id": "c899d2f3-043f-4e3c-bb76-1cd387acc6d4",
   "metadata": {},
   "outputs": [
    {
     "data": {
      "text/plain": [
       "0.07742857461857122"
      ]
     },
     "execution_count": 67,
     "metadata": {},
     "output_type": "execute_result"
    }
   ],
   "source": [
    "pfolio_var"
   ]
  },
  {
   "cell_type": "code",
   "execution_count": 68,
   "id": "f4a09bc2-e9e4-46c1-abd6-26fa90721b26",
   "metadata": {},
   "outputs": [],
   "source": [
    "#Portfolio Volatility:"
   ]
  },
  {
   "cell_type": "code",
   "execution_count": 69,
   "id": "b5094463-1dc7-41d3-9e05-1ce4680029a4",
   "metadata": {},
   "outputs": [
    {
     "data": {
      "text/plain": [
       "0.2782599047986814"
      ]
     },
     "execution_count": 69,
     "metadata": {},
     "output_type": "execute_result"
    }
   ],
   "source": [
    "pfolio_vol=pfolio_var**0.5\n",
    "pfolio_vol"
   ]
  },
  {
   "cell_type": "code",
   "execution_count": 100,
   "id": "2fc9a70e-23d0-4861-8cb4-0fe60d910fba",
   "metadata": {},
   "outputs": [],
   "source": [
    "#Calculating Diversifiable and Non_Diversifiable Risk of Portfolio"
   ]
  },
  {
   "cell_type": "code",
   "execution_count": null,
   "id": "9c078b74-b589-47f7-88e5-bc0ddb41e003",
   "metadata": {},
   "outputs": [],
   "source": [
    "#Diversifiable Risk = Pfolio_var - weighted_annual_var"
   ]
  },
  {
   "cell_type": "code",
   "execution_count": 102,
   "id": "27518c5b-2ee9-4fa7-a957-115ac8fc6acc",
   "metadata": {},
   "outputs": [],
   "source": [
    "INFY_var_a=sec_returns['INFY'].var()*250"
   ]
  },
  {
   "cell_type": "code",
   "execution_count": 103,
   "id": "d9081c1a-bf10-4e03-8975-90ade1f6954f",
   "metadata": {},
   "outputs": [
    {
     "data": {
      "text/plain": [
       "0.1864842966500448"
      ]
     },
     "execution_count": 103,
     "metadata": {},
     "output_type": "execute_result"
    }
   ],
   "source": [
    "INFY_var_a"
   ]
  },
  {
   "cell_type": "code",
   "execution_count": 104,
   "id": "5760d8a7-6d42-4055-b085-9808c471e856",
   "metadata": {},
   "outputs": [],
   "source": [
    "ITC_var_a=sec_returns['ITC.NS'].var()*250"
   ]
  },
  {
   "cell_type": "code",
   "execution_count": 105,
   "id": "e70c9068-1f1d-4e06-86a1-5edcdb830cf6",
   "metadata": {},
   "outputs": [
    {
     "data": {
      "text/plain": [
       "0.08971513144134857"
      ]
     },
     "execution_count": 105,
     "metadata": {},
     "output_type": "execute_result"
    }
   ],
   "source": [
    "ITC_var_a"
   ]
  },
  {
   "cell_type": "code",
   "execution_count": 111,
   "id": "9f5b41c0-e738-4b75-9ce2-392a6f238c4a",
   "metadata": {},
   "outputs": [
    {
     "data": {
      "text/plain": [
       "0.008378717595722882"
      ]
     },
     "execution_count": 111,
     "metadata": {},
     "output_type": "execute_result"
    }
   ],
   "source": [
    "dr = pfolio_var - (weights[0] ** 2 * INFY_var_a) - (weights[1] ** 2 * ITC_var_a)\n",
    "dr"
   ]
  },
  {
   "cell_type": "code",
   "execution_count": 117,
   "id": "1ef28bc9-5f1d-44ba-a058-185ef389356e",
   "metadata": {},
   "outputs": [
    {
     "name": "stdout",
     "output_type": "stream",
     "text": [
      "0.838%\n"
     ]
    }
   ],
   "source": [
    "print(str(round(dr*100,3))+'%')"
   ]
  },
  {
   "cell_type": "code",
   "execution_count": 119,
   "id": "5a3c4df8-2334-47fc-839c-075e7859f2e9",
   "metadata": {},
   "outputs": [],
   "source": [
    "#Non-Diversifiable Risk"
   ]
  },
  {
   "cell_type": "code",
   "execution_count": 121,
   "id": "66972c49-1d15-4431-8138-9c2483c6aeb3",
   "metadata": {},
   "outputs": [
    {
     "data": {
      "text/plain": [
       "0.06904985702284834"
      ]
     },
     "execution_count": 121,
     "metadata": {},
     "output_type": "execute_result"
    }
   ],
   "source": [
    "n_dr_1=pfolio_var-dr\n",
    "n_dr_1"
   ]
  },
  {
   "cell_type": "code",
   "execution_count": 127,
   "id": "75481c53-cb80-4524-bca9-0eea4acd46c6",
   "metadata": {},
   "outputs": [
    {
     "data": {
      "text/plain": [
       "0.06904985702284834"
      ]
     },
     "execution_count": 127,
     "metadata": {},
     "output_type": "execute_result"
    }
   ],
   "source": [
    "n_dr_2=(weights[0] ** 2 * INFY_var_a) + (weights[1] ** 2 * ITC_var_a)\n",
    "n_dr_2"
   ]
  },
  {
   "cell_type": "code",
   "execution_count": 129,
   "id": "d20fa517-77c2-40ac-b448-8f2522c0df39",
   "metadata": {},
   "outputs": [
    {
     "data": {
      "text/plain": [
       "True"
      ]
     },
     "execution_count": 129,
     "metadata": {},
     "output_type": "execute_result"
    }
   ],
   "source": [
    "n_dr_1==n_dr_2"
   ]
  },
  {
   "cell_type": "code",
   "execution_count": null,
   "id": "b95ca535-3d52-4bab-8e24-9f13e9846252",
   "metadata": {},
   "outputs": [],
   "source": []
  }
 ],
 "metadata": {
  "kernelspec": {
   "display_name": "Python 3 (ipykernel)",
   "language": "python",
   "name": "python3"
  },
  "language_info": {
   "codemirror_mode": {
    "name": "ipython",
    "version": 3
   },
   "file_extension": ".py",
   "mimetype": "text/x-python",
   "name": "python",
   "nbconvert_exporter": "python",
   "pygments_lexer": "ipython3",
   "version": "3.12.4"
  }
 },
 "nbformat": 4,
 "nbformat_minor": 5
}
