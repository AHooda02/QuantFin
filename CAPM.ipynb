{
 "cells": [
  {
   "cell_type": "code",
   "execution_count": 4,
   "id": "40a95e57-3849-43bd-87f7-788884c27505",
   "metadata": {},
   "outputs": [],
   "source": [
    "#Beta tells us the measure of relationship between stock and market pfolio\n",
    "#measures the mkt risk that cant be avoided thru diversification (systematic)\n",
    "#the riskier the stock the higgher it's beta, b=0=>no relationship\n",
    "#b<1=>defensive and b>1=>aggressive"
   ]
  },
  {
   "cell_type": "code",
   "execution_count": 14,
   "id": "b52f5ddc-97fa-4f8e-8b09-b5b2b1a5231e",
   "metadata": {},
   "outputs": [
    {
     "name": "stderr",
     "output_type": "stream",
     "text": [
      "[*********************100%***********************]  1 of 1 completed\n",
      "[*********************100%***********************]  1 of 1 completed\n"
     ]
    }
   ],
   "source": [
    "import numpy as np\n",
    "import pandas as pd\n",
    "import yfinance as yf\n",
    "\n",
    "tickers=['INFY','^NSEI']\n",
    "data=pd.DataFrame()\n",
    "\n",
    "for a in tickers:\n",
    "    data[a]=yf.download(a,start='2015-1-1')['Close']"
   ]
  },
  {
   "cell_type": "code",
   "execution_count": 16,
   "id": "db3a45a5-e99d-4dba-aa50-ab57d84eddce",
   "metadata": {},
   "outputs": [],
   "source": [
    "sec_returns=np.log(data/data.shift(1))"
   ]
  },
  {
   "cell_type": "code",
   "execution_count": 18,
   "id": "5868a7d2-97db-47da-b53a-8a1a3da538d7",
   "metadata": {},
   "outputs": [
    {
     "data": {
      "text/html": [
       "<div>\n",
       "<style scoped>\n",
       "    .dataframe tbody tr th:only-of-type {\n",
       "        vertical-align: middle;\n",
       "    }\n",
       "\n",
       "    .dataframe tbody tr th {\n",
       "        vertical-align: top;\n",
       "    }\n",
       "\n",
       "    .dataframe thead th {\n",
       "        text-align: right;\n",
       "    }\n",
       "</style>\n",
       "<table border=\"1\" class=\"dataframe\">\n",
       "  <thead>\n",
       "    <tr style=\"text-align: right;\">\n",
       "      <th></th>\n",
       "      <th>INFY</th>\n",
       "      <th>^NSEI</th>\n",
       "    </tr>\n",
       "  </thead>\n",
       "  <tbody>\n",
       "    <tr>\n",
       "      <th>INFY</th>\n",
       "      <td>0.075697</td>\n",
       "      <td>0.015327</td>\n",
       "    </tr>\n",
       "    <tr>\n",
       "      <th>^NSEI</th>\n",
       "      <td>0.015327</td>\n",
       "      <td>0.027189</td>\n",
       "    </tr>\n",
       "  </tbody>\n",
       "</table>\n",
       "</div>"
      ],
      "text/plain": [
       "           INFY     ^NSEI\n",
       "INFY   0.075697  0.015327\n",
       "^NSEI  0.015327  0.027189"
      ]
     },
     "execution_count": 18,
     "metadata": {},
     "output_type": "execute_result"
    }
   ],
   "source": [
    "cov=sec_returns.cov()*250\n",
    "cov"
   ]
  },
  {
   "cell_type": "code",
   "execution_count": 22,
   "id": "8a0084d2-358c-49fd-b957-4fa6c670ca50",
   "metadata": {},
   "outputs": [
    {
     "data": {
      "text/plain": [
       "0.01532660845554622"
      ]
     },
     "execution_count": 22,
     "metadata": {},
     "output_type": "execute_result"
    }
   ],
   "source": [
    "cov_with_market=cov.iloc[0,1]\n",
    "cov_with_market"
   ]
  },
  {
   "cell_type": "code",
   "execution_count": 24,
   "id": "db87cdbd-b189-4a1d-b707-d22cfcc45cf6",
   "metadata": {},
   "outputs": [
    {
     "data": {
      "text/plain": [
       "0.02718928952447623"
      ]
     },
     "execution_count": 24,
     "metadata": {},
     "output_type": "execute_result"
    }
   ],
   "source": [
    "mkt_var=sec_returns['^NSEI'].var()*250\n",
    "mkt_var"
   ]
  },
  {
   "cell_type": "code",
   "execution_count": 26,
   "id": "26a83213-fff2-4c97-85f5-d675f7bb5165",
   "metadata": {},
   "outputs": [
    {
     "data": {
      "text/plain": [
       "0.5637002188582002"
      ]
     },
     "execution_count": 26,
     "metadata": {},
     "output_type": "execute_result"
    }
   ],
   "source": [
    "INFY_beta=cov_with_market/mkt_var\n",
    "INFY_beta"
   ]
  },
  {
   "cell_type": "code",
   "execution_count": 28,
   "id": "a5289f85-36e8-4498-9fc4-95fa3391c38b",
   "metadata": {},
   "outputs": [],
   "source": [
    "# market_return - risk_free_return = equity risk premium\n",
    "# ri = rf + b*(rm-rf)\n",
    "# CAPM"
   ]
  },
  {
   "cell_type": "code",
   "execution_count": 42,
   "id": "bdf9a7b0-d030-4e4d-a848-2314bfdabea8",
   "metadata": {},
   "outputs": [
    {
     "data": {
      "text/plain": [
       "11.067751641436502"
      ]
     },
     "execution_count": 42,
     "metadata": {},
     "output_type": "execute_result"
    }
   ],
   "source": [
    "INFY_er = 0.0684+ INFY_beta* 0.075\n",
    "INFY_er * 100\n",
    "#6.84 is the govt bond yield for 10 years\n",
    "#7.5 id equity risk premium in india"
   ]
  },
  {
   "cell_type": "code",
   "execution_count": 40,
   "id": "3a1e82b0-aa31-45f3-bc32-c8dba7764c91",
   "metadata": {},
   "outputs": [],
   "source": [
    "#Sharpe Ratio : (Rpg-Rf)/STDpg"
   ]
  },
  {
   "cell_type": "code",
   "execution_count": 44,
   "id": "17f63fbf-6bd1-40bd-a426-434b5ff1f2a3",
   "metadata": {},
   "outputs": [
    {
     "data": {
      "text/plain": [
       "0.1536635102365053"
      ]
     },
     "execution_count": 44,
     "metadata": {},
     "output_type": "execute_result"
    }
   ],
   "source": [
    "sharpe= (INFY_er - 0.0684)/(sec_returns['INFY'].std() * 250 ** 0.5)\n",
    "sharpe"
   ]
  },
  {
   "cell_type": "code",
   "execution_count": 46,
   "id": "6f1b2236-0bd5-49ce-9ba5-b455b8921f3e",
   "metadata": {},
   "outputs": [],
   "source": [
    "# alpha \n",
    "# ri = a + rf + b*(rm-rf)"
   ]
  },
  {
   "cell_type": "code",
   "execution_count": null,
   "id": "937d6abd-57bd-486f-ad72-6a0124cfda3d",
   "metadata": {},
   "outputs": [],
   "source": []
  }
 ],
 "metadata": {
  "kernelspec": {
   "display_name": "Python 3 (ipykernel)",
   "language": "python",
   "name": "python3"
  },
  "language_info": {
   "codemirror_mode": {
    "name": "ipython",
    "version": 3
   },
   "file_extension": ".py",
   "mimetype": "text/x-python",
   "name": "python",
   "nbconvert_exporter": "python",
   "pygments_lexer": "ipython3",
   "version": "3.12.4"
  }
 },
 "nbformat": 4,
 "nbformat_minor": 5
}
