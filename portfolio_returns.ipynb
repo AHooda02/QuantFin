{
 "cells": [
  {
   "cell_type": "code",
   "execution_count": 17,
   "id": "78734a71-05b2-4154-a4cc-f32273481ede",
   "metadata": {},
   "outputs": [],
   "source": [
    "import numpy as np\n",
    "import pandas as pd\n",
    "import yfinance as yf\n",
    "import matplotlib.pyplot as plt"
   ]
  },
  {
   "cell_type": "code",
   "execution_count": 26,
   "id": "e957490c-b11f-4c6b-93d3-f92536b12e7b",
   "metadata": {},
   "outputs": [
    {
     "name": "stderr",
     "output_type": "stream",
     "text": [
      "[*********************100%***********************]  1 of 1 completed\n",
      "[*********************100%***********************]  1 of 1 completed\n",
      "[*********************100%***********************]  1 of 1 completed\n",
      "[*********************100%***********************]  1 of 1 completed\n"
     ]
    }
   ],
   "source": [
    "tickers=['PG','MSFT','F','GE']\n",
    "mydata=pd.DataFrame()\n",
    "for t in tickers:\n",
    "    mydata[t]=yf.download(t,start='1995-01-01')['Close']"
   ]
  },
  {
   "cell_type": "code",
   "execution_count": 28,
   "id": "75b145c7-900b-435f-a30e-099cf92a4ba2",
   "metadata": {},
   "outputs": [
    {
     "name": "stdout",
     "output_type": "stream",
     "text": [
      "<class 'pandas.core.frame.DataFrame'>\n",
      "DatetimeIndex: 7550 entries, 1995-01-03 to 2024-12-27\n",
      "Data columns (total 4 columns):\n",
      " #   Column  Non-Null Count  Dtype  \n",
      "---  ------  --------------  -----  \n",
      " 0   PG      7550 non-null   float64\n",
      " 1   MSFT    7550 non-null   float64\n",
      " 2   F       7550 non-null   float64\n",
      " 3   GE      7550 non-null   float64\n",
      "dtypes: float64(4)\n",
      "memory usage: 294.9 KB\n"
     ]
    }
   ],
   "source": [
    "mydata.info()"
   ]
  },
  {
   "cell_type": "code",
   "execution_count": 30,
   "id": "21fb624f-cfb4-4f9a-8ee5-c1bb729a0057",
   "metadata": {},
   "outputs": [
    {
     "data": {
      "text/html": [
       "<div>\n",
       "<style scoped>\n",
       "    .dataframe tbody tr th:only-of-type {\n",
       "        vertical-align: middle;\n",
       "    }\n",
       "\n",
       "    .dataframe tbody tr th {\n",
       "        vertical-align: top;\n",
       "    }\n",
       "\n",
       "    .dataframe thead th {\n",
       "        text-align: right;\n",
       "    }\n",
       "</style>\n",
       "<table border=\"1\" class=\"dataframe\">\n",
       "  <thead>\n",
       "    <tr style=\"text-align: right;\">\n",
       "      <th></th>\n",
       "      <th>PG</th>\n",
       "      <th>MSFT</th>\n",
       "      <th>F</th>\n",
       "      <th>GE</th>\n",
       "    </tr>\n",
       "    <tr>\n",
       "      <th>Date</th>\n",
       "      <th></th>\n",
       "      <th></th>\n",
       "      <th></th>\n",
       "      <th></th>\n",
       "    </tr>\n",
       "  </thead>\n",
       "  <tbody>\n",
       "    <tr>\n",
       "      <th>1995-01-03</th>\n",
       "      <td>7.441168</td>\n",
       "      <td>2.319453</td>\n",
       "      <td>3.569732</td>\n",
       "      <td>20.200678</td>\n",
       "    </tr>\n",
       "    <tr>\n",
       "      <th>1995-01-04</th>\n",
       "      <td>7.381516</td>\n",
       "      <td>2.336313</td>\n",
       "      <td>3.665778</td>\n",
       "      <td>20.200678</td>\n",
       "    </tr>\n",
       "    <tr>\n",
       "      <th>1995-01-05</th>\n",
       "      <td>7.277133</td>\n",
       "      <td>2.297776</td>\n",
       "      <td>3.633761</td>\n",
       "      <td>20.250174</td>\n",
       "    </tr>\n",
       "    <tr>\n",
       "      <th>1995-01-06</th>\n",
       "      <td>7.292046</td>\n",
       "      <td>2.336313</td>\n",
       "      <td>3.633761</td>\n",
       "      <td>20.151142</td>\n",
       "    </tr>\n",
       "    <tr>\n",
       "      <th>1995-01-09</th>\n",
       "      <td>7.262224</td>\n",
       "      <td>2.321862</td>\n",
       "      <td>3.697795</td>\n",
       "      <td>19.953091</td>\n",
       "    </tr>\n",
       "  </tbody>\n",
       "</table>\n",
       "</div>"
      ],
      "text/plain": [
       "                  PG      MSFT         F         GE\n",
       "Date                                               \n",
       "1995-01-03  7.441168  2.319453  3.569732  20.200678\n",
       "1995-01-04  7.381516  2.336313  3.665778  20.200678\n",
       "1995-01-05  7.277133  2.297776  3.633761  20.250174\n",
       "1995-01-06  7.292046  2.336313  3.633761  20.151142\n",
       "1995-01-09  7.262224  2.321862  3.697795  19.953091"
      ]
     },
     "execution_count": 30,
     "metadata": {},
     "output_type": "execute_result"
    }
   ],
   "source": [
    "mydata.head()"
   ]
  },
  {
   "cell_type": "code",
   "execution_count": 32,
   "id": "f184be1e-c622-4b0e-b1a1-54907ba5b45f",
   "metadata": {},
   "outputs": [
    {
     "data": {
      "text/html": [
       "<div>\n",
       "<style scoped>\n",
       "    .dataframe tbody tr th:only-of-type {\n",
       "        vertical-align: middle;\n",
       "    }\n",
       "\n",
       "    .dataframe tbody tr th {\n",
       "        vertical-align: top;\n",
       "    }\n",
       "\n",
       "    .dataframe thead th {\n",
       "        text-align: right;\n",
       "    }\n",
       "</style>\n",
       "<table border=\"1\" class=\"dataframe\">\n",
       "  <thead>\n",
       "    <tr style=\"text-align: right;\">\n",
       "      <th></th>\n",
       "      <th>PG</th>\n",
       "      <th>MSFT</th>\n",
       "      <th>F</th>\n",
       "      <th>GE</th>\n",
       "    </tr>\n",
       "    <tr>\n",
       "      <th>Date</th>\n",
       "      <th></th>\n",
       "      <th></th>\n",
       "      <th></th>\n",
       "      <th></th>\n",
       "    </tr>\n",
       "  </thead>\n",
       "  <tbody>\n",
       "    <tr>\n",
       "      <th>2024-12-20</th>\n",
       "      <td>168.059998</td>\n",
       "      <td>436.600006</td>\n",
       "      <td>9.88</td>\n",
       "      <td>168.096146</td>\n",
       "    </tr>\n",
       "    <tr>\n",
       "      <th>2024-12-23</th>\n",
       "      <td>168.110001</td>\n",
       "      <td>435.250000</td>\n",
       "      <td>9.90</td>\n",
       "      <td>168.745102</td>\n",
       "    </tr>\n",
       "    <tr>\n",
       "      <th>2024-12-24</th>\n",
       "      <td>168.940002</td>\n",
       "      <td>439.329987</td>\n",
       "      <td>10.02</td>\n",
       "      <td>171.211075</td>\n",
       "    </tr>\n",
       "    <tr>\n",
       "      <th>2024-12-26</th>\n",
       "      <td>170.160004</td>\n",
       "      <td>438.109985</td>\n",
       "      <td>10.07</td>\n",
       "      <td>171.869995</td>\n",
       "    </tr>\n",
       "    <tr>\n",
       "      <th>2024-12-27</th>\n",
       "      <td>169.529999</td>\n",
       "      <td>430.529999</td>\n",
       "      <td>10.03</td>\n",
       "      <td>170.080002</td>\n",
       "    </tr>\n",
       "  </tbody>\n",
       "</table>\n",
       "</div>"
      ],
      "text/plain": [
       "                    PG        MSFT      F          GE\n",
       "Date                                                 \n",
       "2024-12-20  168.059998  436.600006   9.88  168.096146\n",
       "2024-12-23  168.110001  435.250000   9.90  168.745102\n",
       "2024-12-24  168.940002  439.329987  10.02  171.211075\n",
       "2024-12-26  170.160004  438.109985  10.07  171.869995\n",
       "2024-12-27  169.529999  430.529999  10.03  170.080002"
      ]
     },
     "execution_count": 32,
     "metadata": {},
     "output_type": "execute_result"
    }
   ],
   "source": [
    "mydata.tail()"
   ]
  },
  {
   "cell_type": "code",
   "execution_count": 34,
   "id": "1ab5c220-a389-4e26-b000-f1055c0080a6",
   "metadata": {},
   "outputs": [
    {
     "data": {
      "text/plain": [
       "PG       7.441168\n",
       "MSFT     2.319453\n",
       "F        3.569732\n",
       "GE      20.200678\n",
       "Name: 1995-01-03 00:00:00, dtype: float64"
      ]
     },
     "execution_count": 34,
     "metadata": {},
     "output_type": "execute_result"
    }
   ],
   "source": [
    "mydata.iloc[0]"
   ]
  },
  {
   "cell_type": "code",
   "execution_count": 44,
   "id": "7def5cdf-e1df-4211-926b-581f3ad7100f",
   "metadata": {},
   "outputs": [
    {
     "data": {
      "image/png": "[encoded data removed]",
      "text/plain": [
       "<Figure size 1500x600 with 1 Axes>"
      ]
     },
     "metadata": {},
     "output_type": "display_data"
    }
   ],
   "source": [
    "(mydata/mydata.iloc[0]*100).plot(figsize=(15,6));\n",
    "plt.show()"
   ]
  },
  {
   "cell_type": "code",
   "execution_count": 46,
   "id": "b65eef3b-4610-4ccc-8386-d4fd344fde18",
   "metadata": {},
   "outputs": [],
   "source": [
    "returns = (mydata/mydata.shift(1))-1"
   ]
  },
  {
   "cell_type": "code",
   "execution_count": 48,
   "id": "1b698781-134f-4f2e-adea-d6a3f117e964",
   "metadata": {},
   "outputs": [
    {
     "data": {
      "text/html": [
       "<div>\n",
       "<style scoped>\n",
       "    .dataframe tbody tr th:only-of-type {\n",
       "        vertical-align: middle;\n",
       "    }\n",
       "\n",
       "    .dataframe tbody tr th {\n",
       "        vertical-align: top;\n",
       "    }\n",
       "\n",
       "    .dataframe thead th {\n",
       "        text-align: right;\n",
       "    }\n",
       "</style>\n",
       "<table border=\"1\" class=\"dataframe\">\n",
       "  <thead>\n",
       "    <tr style=\"text-align: right;\">\n",
       "      <th></th>\n",
       "      <th>PG</th>\n",
       "      <th>MSFT</th>\n",
       "      <th>F</th>\n",
       "      <th>GE</th>\n",
       "    </tr>\n",
       "    <tr>\n",
       "      <th>Date</th>\n",
       "      <th></th>\n",
       "      <th></th>\n",
       "      <th></th>\n",
       "      <th></th>\n",
       "    </tr>\n",
       "  </thead>\n",
       "  <tbody>\n",
       "    <tr>\n",
       "      <th>1995-01-03</th>\n",
       "      <td>NaN</td>\n",
       "      <td>NaN</td>\n",
       "      <td>NaN</td>\n",
       "      <td>NaN</td>\n",
       "    </tr>\n",
       "    <tr>\n",
       "      <th>1995-01-04</th>\n",
       "      <td>-0.008016</td>\n",
       "      <td>0.007269</td>\n",
       "      <td>0.026906</td>\n",
       "      <td>0.000000</td>\n",
       "    </tr>\n",
       "    <tr>\n",
       "      <th>1995-01-05</th>\n",
       "      <td>-0.014141</td>\n",
       "      <td>-0.016495</td>\n",
       "      <td>-0.008734</td>\n",
       "      <td>0.002450</td>\n",
       "    </tr>\n",
       "    <tr>\n",
       "      <th>1995-01-06</th>\n",
       "      <td>0.002049</td>\n",
       "      <td>0.016771</td>\n",
       "      <td>0.000000</td>\n",
       "      <td>-0.004890</td>\n",
       "    </tr>\n",
       "    <tr>\n",
       "      <th>1995-01-09</th>\n",
       "      <td>-0.004090</td>\n",
       "      <td>-0.006185</td>\n",
       "      <td>0.017622</td>\n",
       "      <td>-0.009828</td>\n",
       "    </tr>\n",
       "  </tbody>\n",
       "</table>\n",
       "</div>"
      ],
      "text/plain": [
       "                  PG      MSFT         F        GE\n",
       "Date                                              \n",
       "1995-01-03       NaN       NaN       NaN       NaN\n",
       "1995-01-04 -0.008016  0.007269  0.026906  0.000000\n",
       "1995-01-05 -0.014141 -0.016495 -0.008734  0.002450\n",
       "1995-01-06  0.002049  0.016771  0.000000 -0.004890\n",
       "1995-01-09 -0.004090 -0.006185  0.017622 -0.009828"
      ]
     },
     "execution_count": 48,
     "metadata": {},
     "output_type": "execute_result"
    }
   ],
   "source": [
    "returns.head()"
   ]
  },
  {
   "cell_type": "code",
   "execution_count": 50,
   "id": "a6984677-02b1-4390-a36f-5532b2f5727c",
   "metadata": {},
   "outputs": [],
   "source": [
    "weights=np.array([0.25,0.25,0.25,0.25])"
   ]
  },
  {
   "cell_type": "code",
   "execution_count": 52,
   "id": "66f0151d-7d66-4ddb-a568-42bd191d4451",
   "metadata": {},
   "outputs": [
    {
     "data": {
      "text/plain": [
       "array([        nan,  0.00653955, -0.00922993, ...,  0.01026151,\n",
       "        0.00332077, -0.00884775])"
      ]
     },
     "execution_count": 52,
     "metadata": {},
     "output_type": "execute_result"
    }
   ],
   "source": [
    "np.dot(returns,weights)"
   ]
  },
  {
   "cell_type": "code",
   "execution_count": 54,
   "id": "9b3d4845-f8a2-471f-9b86-e78d0b6d5a51",
   "metadata": {},
   "outputs": [
    {
     "data": {
      "text/plain": [
       "PG      0.127617\n",
       "MSFT    0.220844\n",
       "F       0.114302\n",
       "GE      0.121296\n",
       "dtype: float64"
      ]
     },
     "execution_count": 54,
     "metadata": {},
     "output_type": "execute_result"
    }
   ],
   "source": [
    "annual_returns = returns.mean()*250\n",
    "annual_returns"
   ]
  },
  {
   "cell_type": "code",
   "execution_count": 58,
   "id": "02cfef5e-18a8-42d7-a9ea-431d388fdc94",
   "metadata": {},
   "outputs": [
    {
     "name": "stdout",
     "output_type": "stream",
     "text": [
      "14.601%\n"
     ]
    }
   ],
   "source": [
    "pfolio=str(round(np.dot(annual_returns, weights),5)*100)+'%'\n",
    "print (pfolio)"
   ]
  },
  {
   "cell_type": "code",
   "execution_count": null,
   "id": "da089cb6-4bcc-4f0e-9ae0-17fe38bd769a",
   "metadata": {},
   "outputs": [],
   "source": []
  }
 ],
 "metadata": {
  "kernelspec": {
   "display_name": "Python 3 (ipykernel)",
   "language": "python",
   "name": "python3"
  },
  "language_info": {
   "codemirror_mode": {
    "name": "ipython",
    "version": 3
   },
   "file_extension": ".py",
   "mimetype": "text/x-python",
   "name": "python",
   "nbconvert_exporter": "python",
   "pygments_lexer": "ipython3",
   "version": "3.12.4"
  }
 },
 "nbformat": 4,
 "nbformat_minor": 5
}
